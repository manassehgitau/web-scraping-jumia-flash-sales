{
 "cells": [
  {
   "cell_type": "code",
   "execution_count": 5,
   "metadata": {},
   "outputs": [
    {
     "name": "stdout",
     "output_type": "stream",
     "text": [
      "Failed to fetch page: 1. Status Code: 403\n"
     ]
    }
   ],
   "source": [
    "import pymongo\n",
    "from pymongo import MongoClient\n",
    "import os\n",
    "from dotenv import load_dotenv\n",
    "import requests\n",
    "from bs4 import BeautifulSoup\n",
    "\n",
    "load_dotenv()\n",
    "\n",
    "try:\n",
    "    jumia_flash_sales_url  = 'https://www.jumia.co.ke/flash-sales/?page={}#catalog-listing'\n",
    "\n",
    "    MONGODB_URI = os.getenv('MONGODB_URI')\n",
    "    client = MongoClient(MONGODB_URI)\n",
    "    # print(client)\n",
    "    database = client[\"testPyDB\"]\n",
    "    collection = database[\"products\"]\n",
    "    # print(collection)\n",
    "\n",
    "    page = 1\n",
    "    while True:\n",
    "        url = jumia_flash_sales_url.format(page)\n",
    "        response = requests.get(url)\n",
    "\n",
    "        if response.status_code != 200:\n",
    "            print(f\"Failed to fetch page: {page}. Status Code: {response.status_code}\")\n",
    "            break\n",
    "\n",
    "        soup = BeautifulSoup(response.text, \"html.parser\")\n",
    "        products_list = soup.find_all(\"article\", class_=\"prd _fb _p col c-prd\")\n",
    "\n",
    "        if not products_list:\n",
    "            break\n",
    "\n",
    "        for product in products_list:\n",
    "            product_name = product.find(\"h3\", class_=\"name\").get_text()\n",
    "            current_price = product.find(\"div\", class_=\"prc\").get_text()\n",
    "            old_price_tag = product.find(\"div\", class_=\"old\")\n",
    "            previous_price = old_price_tag.getText() if old_price_tag else \"NaN\"\n",
    "            image_url = product.find(\"div\", class_=\"img-c\").find(\"img\", class_=\"img\").get('src')\n",
    "            offical_store_tag = product.find(\"div\", class_=\"bdg _mall _xs\")\n",
    "            from_official_store = True if offical_store_tag else False\n",
    "            items_left = product.find(\"div\", class_=\"stk\").get_text()\n",
    "\n",
    "            product_db_list = {\n",
    "                    \"Name\" : product_name,\n",
    "                    \"Current Price\" : current_price,\n",
    "                    \"Previous Price\" : previous_price,\n",
    "                    \"Image URL\" : image_url,\n",
    "                    \"IsFromOfficalStore\" : from_official_store,\n",
    "                    \"Items Left\" : items_left\n",
    "                  }\n",
    "\n",
    "            result = collection.insert_one(product_db_list)\n",
    "            print(result.acknowledged)\n",
    "\n",
    "        page += 1\n",
    "\n",
    "    client.close()\n",
    "except Exception as e:\n",
    "    raise Exception(\"The following error occurred: \", e)"
   ]
  }
 ],
 "metadata": {
  "kernelspec": {
   "display_name": ".venv",
   "language": "python",
   "name": "python3"
  },
  "language_info": {
   "codemirror_mode": {
    "name": "ipython",
    "version": 3
   },
   "file_extension": ".py",
   "mimetype": "text/x-python",
   "name": "python",
   "nbconvert_exporter": "python",
   "pygments_lexer": "ipython3",
   "version": "3.13.2"
  }
 },
 "nbformat": 4,
 "nbformat_minor": 2
}
