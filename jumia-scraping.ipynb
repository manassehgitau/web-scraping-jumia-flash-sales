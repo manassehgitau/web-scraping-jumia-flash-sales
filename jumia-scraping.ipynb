{
 "cells": [
  {
   "cell_type": "markdown",
   "metadata": {},
   "source": [
    "### web scraping jumia flash-sales with beautifulsoup"
   ]
  },
  {
   "cell_type": "code",
   "execution_count": null,
   "metadata": {},
   "outputs": [
    {
     "name": "stdout",
     "output_type": "stream",
     "text": [
      "All Products saved to flash_sales.csv\n"
     ]
    }
   ],
   "source": [
    "import requests\n",
    "import csv\n",
    "import requests\n",
    "from bs4 import BeautifulSoup\n",
    "\n",
    "def get_product_specs(url):\n",
    "    response = requests.get(f\"https://www.jumia.co.ke/{url}\")\n",
    "\n",
    "    if response.status_code != 200:\n",
    "        print(f\"Failed to fetch page {page}. Status code: {response.status_code}\")\n",
    "    \n",
    "    soup = BeautifulSoup(response.text, \"html.parser\")\n",
    "\n",
    "    # TODO: make this section dynamic for all sections\n",
    "    # brand = soup.find(\"div\", class_=\"-fs12 -phm -pts\").find(\"a\", class_=\"_more -paxs -di\").get_text()\n",
    "    # product_details = soup.find(\"div\", class_=\"markup -mhm -pvl -oxa -sc\").find(\"p\")\n",
    "    \n",
    "    brand = \"\"\n",
    "    product_details = \"\"\n",
    "\n",
    "    return brand, product_details\n",
    "\n",
    "    \n",
    "\n",
    "jumia_flash_sales_url  = 'https://www.jumia.co.ke/flash-sales/?page={}#catalog-listing' \n",
    "\n",
    "csv_file = \"flash_sales.csv\"\n",
    "\n",
    "with open(csv_file, mode='w', newline=\"\", encoding=\"utf-8\") as file:\n",
    "    writer = csv.writer(file)\n",
    "    writer.writerow([\"Product Name\", \"brand\", \"details\", \"Price\", \"Old Price\", \"image URL\", \"is_from_official_store\", \"items_left\"])\n",
    "\n",
    "    page = 1\n",
    "    while True:\n",
    "        url = jumia_flash_sales_url.format(page)\n",
    "        response = requests.get(url)\n",
    "\n",
    "        if response.status_code != 200:\n",
    "            print(f\"Failed to fetch page {page}. Status code: {response.status_code}\")\n",
    "            break\n",
    "\n",
    "        soup = BeautifulSoup(response.text, 'html.parser')\n",
    "        products_list = soup.find_all(\"article\", class_=\"prd _fb _p col c-prd\")\n",
    "\n",
    "        if not products_list:\n",
    "            break\n",
    "\n",
    "        for product in products_list:\n",
    "            product_url = product.find(\"a\", class_=\"core\").get('href')\n",
    "            # print(product_url)\n",
    "            brand, details = get_product_specs(product_url)\n",
    "\n",
    "            product_name = product.find(\"h3\", class_=\"name\").get_text()\n",
    "            current_price = product.find(\"div\", class_=\"prc\").get_text()\n",
    "            old_price_tag = product.find(\"div\", class_=\"old\")\n",
    "            previous_price = old_price_tag.getText() if old_price_tag else \"NaN\"\n",
    "            image_url = product.find(\"div\", class_=\"img-c\").find(\"img\", class_=\"img\").get('src')\n",
    "            offical_store_tag = product.find(\"div\", class_=\"bdg _mall _xs\")\n",
    "            from_official_store = True if offical_store_tag else False\n",
    "            items_left = product.find(\"div\", class_=\"stk\").get_text()\n",
    "            writer.writerow([product_name, brand, details, current_price, previous_price, image_url, from_official_store, items_left])\n",
    "\n",
    "        page += 1\n",
    "\n",
    "print(f\"All Products saved to {csv_file}\")\n"
   ]
  },
  {
   "cell_type": "markdown",
   "metadata": {},
   "source": [
    "### web scraping jumia flash-sales (mongoDB)"
   ]
  },
  {
   "cell_type": "code",
   "execution_count": null,
   "metadata": {},
   "outputs": [],
   "source": []
  },
  {
   "cell_type": "markdown",
   "metadata": {},
   "source": []
  }
 ],
 "metadata": {
  "kernelspec": {
   "display_name": "myvenv",
   "language": "python",
   "name": "python3"
  },
  "language_info": {
   "codemirror_mode": {
    "name": "ipython",
    "version": 3
   },
   "file_extension": ".py",
   "mimetype": "text/x-python",
   "name": "python",
   "nbconvert_exporter": "python",
   "pygments_lexer": "ipython3",
   "version": "3.13.2"
  }
 },
 "nbformat": 4,
 "nbformat_minor": 2
}
